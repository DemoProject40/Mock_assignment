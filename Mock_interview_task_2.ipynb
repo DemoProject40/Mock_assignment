{
 "cells": [
  {
   "cell_type": "markdown",
   "id": "d028cad0",
   "metadata": {},
   "source": [
    "Example 1:\n",
    "\n",
    "Input: l1 = [2,4,3], l2 = [5,6,4] Output: [7,0,8] Explanation: 342 + 465 = 807.\n",
    "\n",
    "Example 2:\n",
    "\n",
    "Input: l1 = [0], l2 = [0] Output: [0]\n",
    "\n",
    "Example 3:\n",
    "\n",
    "Input: l1 = [9,9,9,9,9,9,9], l2 = [9,9,9,9] Output: [8,9,9,9,0,0,0,1]"
   ]
  },
  {
   "cell_type": "code",
   "execution_count": 3,
   "id": "51bc6548",
   "metadata": {},
   "outputs": [
    {
     "name": "stdout",
     "output_type": "stream",
     "text": [
      "<__main__.Node object at 0x000001A4F868E380>\n"
     ]
    }
   ],
   "source": [
    "class Node:\n",
    "    def __init__(self, data):\n",
    "        self.data = data\n",
    "        self.next = None\n",
    "\n",
    "def add_two_linked_lists(l1, l2):\n",
    "    result = None\n",
    "    prev = None\n",
    "    carry = 0\n",
    "\n",
    "    while l1 is not None or l2 is not None:\n",
    "        sum = carry + (l1.data if l1 is not None else 0) + (l2.data if l2 is not None else 0)\n",
    "        carry = sum // 10\n",
    "        new_node = Node(sum % 10)\n",
    "\n",
    "        if result is None:\n",
    "            result = new_node\n",
    "        else:\n",
    "            prev.next = new_node\n",
    "\n",
    "        prev = new_node\n",
    "        l1 = l1.next if l1 is not None else None\n",
    "        l2 = l2.next if l2 is not None else None\n",
    "\n",
    "    if carry > 0:\n",
    "        new_node = Node(carry)\n",
    "        prev.next = new_node\n",
    "\n",
    "    return result\n",
    "\n",
    "def main():\n",
    "    l1 = Node(2)\n",
    "    l1.next = Node(4)\n",
    "    l1.next.next = Node(3)\n",
    "\n",
    "    l2 = Node(5)\n",
    "    l2.next = Node(6)\n",
    "    l2.next.next = Node(4)\n",
    "\n",
    "    result = add_two_linked_lists(l1, l2)\n",
    "    print(result)\n",
    "\n",
    "if __name__ == \"__main__\":\n",
    "    main()\n"
   ]
  },
  {
   "cell_type": "code",
   "execution_count": null,
   "id": "1041fa3f",
   "metadata": {},
   "outputs": [],
   "source": []
  },
  {
   "cell_type": "code",
   "execution_count": null,
   "id": "1cc5f805",
   "metadata": {},
   "outputs": [],
   "source": []
  }
 ],
 "metadata": {
  "kernelspec": {
   "display_name": "Python 3 (ipykernel)",
   "language": "python",
   "name": "python3"
  },
  "language_info": {
   "codemirror_mode": {
    "name": "ipython",
    "version": 3
   },
   "file_extension": ".py",
   "mimetype": "text/x-python",
   "name": "python",
   "nbconvert_exporter": "python",
   "pygments_lexer": "ipython3",
   "version": "3.10.9"
  }
 },
 "nbformat": 4,
 "nbformat_minor": 5
}
